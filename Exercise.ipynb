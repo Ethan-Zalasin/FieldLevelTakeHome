{
 "cells": [
  {
   "cell_type": "code",
   "execution_count": 1,
   "id": "ce23282d-0fdf-4691-91e5-331ecd475ce4",
   "metadata": {},
   "outputs": [],
   "source": [
    "import pandas as pd"
   ]
  },
  {
   "cell_type": "code",
   "execution_count": 195,
   "id": "aceb428d-8ade-4125-9aab-2ff01fe83e2e",
   "metadata": {},
   "outputs": [],
   "source": [
    "#Question 1 Starts Here"
   ]
  },
  {
   "cell_type": "code",
   "execution_count": 68,
   "id": "49d25081-3838-4abf-9884-f47027962189",
   "metadata": {},
   "outputs": [
    {
     "name": "stdout",
     "output_type": "stream",
     "text": [
      "Email Rows: 474163, Activity Rows: 4559973, Total Emails: 15805433.333333334\n"
     ]
    }
   ],
   "source": [
    "df_emails = pd.read_csv(\"email_data.csv\",delimiter=\",\")\n",
    "df_activity = pd.read_csv(\"activity_data.csv\",delimiter=\",\")\n",
    "email_rows = len(df_emails)\n",
    "activity_rows = len(df_activity)\n",
    "total_emails = (email_rows / 0.03)\n",
    "print(\"Email Rows: \" + str(email_rows) + \", Activity Rows: \" + str(activity_rows) + \", Total Emails: \" + str(total_emails))"
   ]
  },
  {
   "cell_type": "code",
   "execution_count": 25,
   "id": "5ddb4e2a-34fd-43fb-a75d-ff8f05973ac1",
   "metadata": {},
   "outputs": [],
   "source": [
    "from datetime import datetime\n",
    "from datetime import timedelta\n",
    "from dateutil import parser"
   ]
  },
  {
   "cell_type": "code",
   "execution_count": 196,
   "id": "5d7a7e25-7bc1-4376-9e3c-5a5247d9f190",
   "metadata": {},
   "outputs": [],
   "source": [
    "#Question 2 Starts Here"
   ]
  },
  {
   "cell_type": "code",
   "execution_count": 42,
   "id": "69cc08f2-89dc-4b33-b54d-36faed483ec2",
   "metadata": {},
   "outputs": [
    {
     "name": "stdout",
     "output_type": "stream",
     "text": [
      "2021-04-19 06:45:15.720000\n",
      "2018-01-03 21:29:47.573000\n"
     ]
    }
   ],
   "source": [
    "#References https://stackoverflow.com/questions/466345/converting-string-into-datetime\n",
    "recent = df_emails[\"EmailSentDateTimeUtc\"].max()\n",
    "earliest = df_emails[\"EmailSentDateTimeUtc\"].min()\n",
    "conversion = timedelta(hours=7) #UTC is 7 hours ahead of PST, need a 7 hour conversion\n",
    "parse_recent = parser.parse(recent)\n",
    "print(parse_recent-conversion)\n",
    "parse_earliest = parser.parse(earliest)\n",
    "print(parse_earliest-conversion)"
   ]
  },
  {
   "cell_type": "code",
   "execution_count": 197,
   "id": "1ed12bc2-4f72-436b-8163-ba5335b859af",
   "metadata": {},
   "outputs": [],
   "source": [
    "#Question 3 Starts Here"
   ]
  },
  {
   "cell_type": "code",
   "execution_count": 70,
   "id": "5e0da45e-74ef-4bc4-8e84-acd0433f1fef",
   "metadata": {},
   "outputs": [
    {
     "data": {
      "text/plain": [
       "63301.0    312\n",
       "33801.0    310\n",
       "34210.0    299\n",
       "38301.0    295\n",
       "67460.0    285\n",
       "95971.0    277\n",
       "42301.0    266\n",
       "36104.0    254\n",
       "40769.0    234\n",
       "85225.0    229\n",
       "Name: ZipCode, dtype: int64"
      ]
     },
     "execution_count": 70,
     "metadata": {},
     "output_type": "execute_result"
    }
   ],
   "source": [
    "#References https://medium.com/analytics-vidhya/how-to-summarize-data-with-pandas-2c9edffafbaf\n",
    "counts = df_emails.ZipCode.value_counts()\n",
    "counts.head(10)"
   ]
  },
  {
   "cell_type": "code",
   "execution_count": 198,
   "id": "c10557a2-c8dc-4e66-af89-38408b42151e",
   "metadata": {},
   "outputs": [],
   "source": [
    "#Question 4 Starts Here"
   ]
  },
  {
   "cell_type": "code",
   "execution_count": 191,
   "id": "2412c3d6-861d-4374-bf5e-2488b55619f1",
   "metadata": {},
   "outputs": [
    {
     "ename": "KeyError",
     "evalue": "474163",
     "output_type": "error",
     "traceback": [
      "\u001b[1;31m---------------------------------------------------------------------------\u001b[0m",
      "\u001b[1;31mValueError\u001b[0m                                Traceback (most recent call last)",
      "\u001b[1;32m~\\anaconda3\\lib\\site-packages\\pandas\\core\\indexes\\range.py\u001b[0m in \u001b[0;36mget_loc\u001b[1;34m(self, key, method, tolerance)\u001b[0m\n\u001b[0;32m    384\u001b[0m                 \u001b[1;32mtry\u001b[0m\u001b[1;33m:\u001b[0m\u001b[1;33m\u001b[0m\u001b[1;33m\u001b[0m\u001b[0m\n\u001b[1;32m--> 385\u001b[1;33m                     \u001b[1;32mreturn\u001b[0m \u001b[0mself\u001b[0m\u001b[1;33m.\u001b[0m\u001b[0m_range\u001b[0m\u001b[1;33m.\u001b[0m\u001b[0mindex\u001b[0m\u001b[1;33m(\u001b[0m\u001b[0mnew_key\u001b[0m\u001b[1;33m)\u001b[0m\u001b[1;33m\u001b[0m\u001b[1;33m\u001b[0m\u001b[0m\n\u001b[0m\u001b[0;32m    386\u001b[0m                 \u001b[1;32mexcept\u001b[0m \u001b[0mValueError\u001b[0m \u001b[1;32mas\u001b[0m \u001b[0merr\u001b[0m\u001b[1;33m:\u001b[0m\u001b[1;33m\u001b[0m\u001b[1;33m\u001b[0m\u001b[0m\n",
      "\u001b[1;31mValueError\u001b[0m: 474163 is not in range",
      "\nThe above exception was the direct cause of the following exception:\n",
      "\u001b[1;31mKeyError\u001b[0m                                  Traceback (most recent call last)",
      "\u001b[1;32m~\\AppData\\Local\\Temp/ipykernel_11364/3569908620.py\u001b[0m in \u001b[0;36m<module>\u001b[1;34m\u001b[0m\n\u001b[0;32m      4\u001b[0m \u001b[0mbigList\u001b[0m \u001b[1;33m=\u001b[0m \u001b[1;33m[\u001b[0m\u001b[1;33m]\u001b[0m\u001b[1;33m\u001b[0m\u001b[1;33m\u001b[0m\u001b[0m\n\u001b[0;32m      5\u001b[0m \u001b[1;32mfor\u001b[0m \u001b[0mi\u001b[0m \u001b[1;32min\u001b[0m \u001b[0mrange\u001b[0m\u001b[1;33m(\u001b[0m\u001b[0mlen\u001b[0m\u001b[1;33m(\u001b[0m\u001b[0mdf_activity\u001b[0m\u001b[1;33m)\u001b[0m\u001b[1;33m)\u001b[0m\u001b[1;33m:\u001b[0m\u001b[1;33m\u001b[0m\u001b[1;33m\u001b[0m\u001b[0m\n\u001b[1;32m----> 6\u001b[1;33m     \u001b[0mdate\u001b[0m \u001b[1;33m=\u001b[0m \u001b[0mparser\u001b[0m\u001b[1;33m.\u001b[0m\u001b[0mparse\u001b[0m\u001b[1;33m(\u001b[0m\u001b[0mdates\u001b[0m\u001b[1;33m[\u001b[0m\u001b[0mi\u001b[0m\u001b[1;33m]\u001b[0m\u001b[1;33m)\u001b[0m\u001b[1;33m\u001b[0m\u001b[1;33m\u001b[0m\u001b[0m\n\u001b[0m\u001b[0;32m      7\u001b[0m     \u001b[0myearToBe\u001b[0m \u001b[1;33m=\u001b[0m \u001b[0mdate\u001b[0m\u001b[1;33m.\u001b[0m\u001b[0myear\u001b[0m\u001b[1;33m\u001b[0m\u001b[1;33m\u001b[0m\u001b[0m\n\u001b[0;32m      8\u001b[0m     \u001b[0mmonthToBe\u001b[0m \u001b[1;33m=\u001b[0m \u001b[0mdate\u001b[0m\u001b[1;33m.\u001b[0m\u001b[0mmonth\u001b[0m\u001b[1;33m\u001b[0m\u001b[1;33m\u001b[0m\u001b[0m\n",
      "\u001b[1;32m~\\anaconda3\\lib\\site-packages\\pandas\\core\\series.py\u001b[0m in \u001b[0;36m__getitem__\u001b[1;34m(self, key)\u001b[0m\n\u001b[0;32m    940\u001b[0m \u001b[1;33m\u001b[0m\u001b[0m\n\u001b[0;32m    941\u001b[0m         \u001b[1;32melif\u001b[0m \u001b[0mkey_is_scalar\u001b[0m\u001b[1;33m:\u001b[0m\u001b[1;33m\u001b[0m\u001b[1;33m\u001b[0m\u001b[0m\n\u001b[1;32m--> 942\u001b[1;33m             \u001b[1;32mreturn\u001b[0m \u001b[0mself\u001b[0m\u001b[1;33m.\u001b[0m\u001b[0m_get_value\u001b[0m\u001b[1;33m(\u001b[0m\u001b[0mkey\u001b[0m\u001b[1;33m)\u001b[0m\u001b[1;33m\u001b[0m\u001b[1;33m\u001b[0m\u001b[0m\n\u001b[0m\u001b[0;32m    943\u001b[0m \u001b[1;33m\u001b[0m\u001b[0m\n\u001b[0;32m    944\u001b[0m         \u001b[1;32mif\u001b[0m \u001b[0mis_hashable\u001b[0m\u001b[1;33m(\u001b[0m\u001b[0mkey\u001b[0m\u001b[1;33m)\u001b[0m\u001b[1;33m:\u001b[0m\u001b[1;33m\u001b[0m\u001b[1;33m\u001b[0m\u001b[0m\n",
      "\u001b[1;32m~\\anaconda3\\lib\\site-packages\\pandas\\core\\series.py\u001b[0m in \u001b[0;36m_get_value\u001b[1;34m(self, label, takeable)\u001b[0m\n\u001b[0;32m   1049\u001b[0m \u001b[1;33m\u001b[0m\u001b[0m\n\u001b[0;32m   1050\u001b[0m         \u001b[1;31m# Similar to Index.get_value, but we do not fall back to positional\u001b[0m\u001b[1;33m\u001b[0m\u001b[1;33m\u001b[0m\u001b[0m\n\u001b[1;32m-> 1051\u001b[1;33m         \u001b[0mloc\u001b[0m \u001b[1;33m=\u001b[0m \u001b[0mself\u001b[0m\u001b[1;33m.\u001b[0m\u001b[0mindex\u001b[0m\u001b[1;33m.\u001b[0m\u001b[0mget_loc\u001b[0m\u001b[1;33m(\u001b[0m\u001b[0mlabel\u001b[0m\u001b[1;33m)\u001b[0m\u001b[1;33m\u001b[0m\u001b[1;33m\u001b[0m\u001b[0m\n\u001b[0m\u001b[0;32m   1052\u001b[0m         \u001b[1;32mreturn\u001b[0m \u001b[0mself\u001b[0m\u001b[1;33m.\u001b[0m\u001b[0mindex\u001b[0m\u001b[1;33m.\u001b[0m\u001b[0m_get_values_for_loc\u001b[0m\u001b[1;33m(\u001b[0m\u001b[0mself\u001b[0m\u001b[1;33m,\u001b[0m \u001b[0mloc\u001b[0m\u001b[1;33m,\u001b[0m \u001b[0mlabel\u001b[0m\u001b[1;33m)\u001b[0m\u001b[1;33m\u001b[0m\u001b[1;33m\u001b[0m\u001b[0m\n\u001b[0;32m   1053\u001b[0m \u001b[1;33m\u001b[0m\u001b[0m\n",
      "\u001b[1;32m~\\anaconda3\\lib\\site-packages\\pandas\\core\\indexes\\range.py\u001b[0m in \u001b[0;36mget_loc\u001b[1;34m(self, key, method, tolerance)\u001b[0m\n\u001b[0;32m    385\u001b[0m                     \u001b[1;32mreturn\u001b[0m \u001b[0mself\u001b[0m\u001b[1;33m.\u001b[0m\u001b[0m_range\u001b[0m\u001b[1;33m.\u001b[0m\u001b[0mindex\u001b[0m\u001b[1;33m(\u001b[0m\u001b[0mnew_key\u001b[0m\u001b[1;33m)\u001b[0m\u001b[1;33m\u001b[0m\u001b[1;33m\u001b[0m\u001b[0m\n\u001b[0;32m    386\u001b[0m                 \u001b[1;32mexcept\u001b[0m \u001b[0mValueError\u001b[0m \u001b[1;32mas\u001b[0m \u001b[0merr\u001b[0m\u001b[1;33m:\u001b[0m\u001b[1;33m\u001b[0m\u001b[1;33m\u001b[0m\u001b[0m\n\u001b[1;32m--> 387\u001b[1;33m                     \u001b[1;32mraise\u001b[0m \u001b[0mKeyError\u001b[0m\u001b[1;33m(\u001b[0m\u001b[0mkey\u001b[0m\u001b[1;33m)\u001b[0m \u001b[1;32mfrom\u001b[0m \u001b[0merr\u001b[0m\u001b[1;33m\u001b[0m\u001b[1;33m\u001b[0m\u001b[0m\n\u001b[0m\u001b[0;32m    388\u001b[0m             \u001b[1;32mraise\u001b[0m \u001b[0mKeyError\u001b[0m\u001b[1;33m(\u001b[0m\u001b[0mkey\u001b[0m\u001b[1;33m)\u001b[0m\u001b[1;33m\u001b[0m\u001b[1;33m\u001b[0m\u001b[0m\n\u001b[0;32m    389\u001b[0m         \u001b[1;32mreturn\u001b[0m \u001b[0msuper\u001b[0m\u001b[1;33m(\u001b[0m\u001b[1;33m)\u001b[0m\u001b[1;33m.\u001b[0m\u001b[0mget_loc\u001b[0m\u001b[1;33m(\u001b[0m\u001b[0mkey\u001b[0m\u001b[1;33m,\u001b[0m \u001b[0mmethod\u001b[0m\u001b[1;33m=\u001b[0m\u001b[0mmethod\u001b[0m\u001b[1;33m,\u001b[0m \u001b[0mtolerance\u001b[0m\u001b[1;33m=\u001b[0m\u001b[0mtolerance\u001b[0m\u001b[1;33m)\u001b[0m\u001b[1;33m\u001b[0m\u001b[1;33m\u001b[0m\u001b[0m\n",
      "\u001b[1;31mKeyError\u001b[0m: 474163"
     ]
    }
   ],
   "source": [
    "#Not too sure what is throwing the error, doesn't change the result\n",
    "dates = df_emails.EmailSentDateTimeUtc\n",
    "\n",
    "bigList = []\n",
    "for i in range(len(df_activity)):\n",
    "    date = parser.parse(dates[i])\n",
    "    yearToBe = date.year\n",
    "    monthToBe = date.month\n",
    "    monthYear = str(monthToBe) + \" - \" + str(yearToBe)\n",
    "    bigList.append(monthYear)"
   ]
  },
  {
   "cell_type": "code",
   "execution_count": 199,
   "id": "a9372064-dc9f-41c6-bfd3-ede0039584d7",
   "metadata": {},
   "outputs": [],
   "source": [
    "graphDF = df_emails.copy()\n",
    "graphDF[\"MonthYear\"] = bigList"
   ]
  },
  {
   "cell_type": "code",
   "execution_count": 133,
   "id": "fbf44d60-1075-4c27-a729-7b0bf21bcafe",
   "metadata": {},
   "outputs": [],
   "source": [
    "#There is probably a much better way to do this, but I am not sure of it\n",
    "fdates = []\n",
    "fdates.append(\"1 - 2018\")\n",
    "fdates.append(\"2 - 2018\")\n",
    "fdates.append(\"3 - 2018\")\n",
    "fdates.append(\"4 - 2018\")\n",
    "fdates.append(\"5 - 2018\")\n",
    "fdates.append(\"6 - 2018\")\n",
    "fdates.append(\"7 - 2018\")\n",
    "fdates.append(\"8 - 2018\")\n",
    "fdates.append(\"9 - 2018\")\n",
    "fdates.append(\"10 - 2018\")\n",
    "fdates.append(\"11 - 2018\")\n",
    "fdates.append(\"12 - 2018\")\n",
    "fdates.append(\"1 - 2019\")\n",
    "fdates.append(\"2 - 2019\")\n",
    "fdates.append(\"3 - 2019\")\n",
    "fdates.append(\"4 - 2019\")\n",
    "fdates.append(\"5 - 2019\")\n",
    "fdates.append(\"6 - 2019\")\n",
    "fdates.append(\"7 - 2019\")\n",
    "fdates.append(\"8 - 2019\")\n",
    "fdates.append(\"9 - 2019\")\n",
    "fdates.append(\"10 - 2019\")\n",
    "fdates.append(\"11 - 2019\")\n",
    "fdates.append(\"12 - 2019\")\n",
    "fdates.append(\"1 - 2020\")\n",
    "fdates.append(\"2 - 2020\")\n",
    "fdates.append(\"3 - 2020\")\n",
    "fdates.append(\"4 - 2020\")\n",
    "fdates.append(\"5 - 2020\")\n",
    "fdates.append(\"6 - 2020\")\n",
    "fdates.append(\"7 - 2020\")\n",
    "fdates.append(\"8 - 2020\")\n",
    "fdates.append(\"9 - 2020\")\n",
    "fdates.append(\"10 - 2020\")\n",
    "fdates.append(\"11 - 2020\")\n",
    "fdates.append(\"12 - 2020\")\n",
    "fdates.append(\"1 - 2021\")\n",
    "fdates.append(\"2 - 2021\")\n",
    "fdates.append(\"3 - 2021\")\n",
    "fdates.append(\"4 - 2021\")"
   ]
  },
  {
   "cell_type": "code",
   "execution_count": 124,
   "id": "778c3a8d-a0ed-4178-85bc-81e1dc3e5ab5",
   "metadata": {},
   "outputs": [],
   "source": [
    "uniqueCount = []\n",
    "for i in fdates:\n",
    "    uniques = graphDF[graphDF[\"MonthYear\"] == i].UserId.nunique()\n",
    "    uniqueCount.append(uniques)"
   ]
  },
  {
   "cell_type": "code",
   "execution_count": 169,
   "id": "96bc4f20-8465-42a9-9c76-6d4a4064bd46",
   "metadata": {},
   "outputs": [],
   "source": [
    "#My thought process here is that if the two dates match up on the sent and opened, then this will ensure activity on the same day\n",
    "# So create a new dataframe without any opened null values\n",
    "percentDF = graphDF.copy()\n",
    "percentDF = percentDF[percentDF['EmailOpenedDateTimeUtc'].notna()]"
   ]
  },
  {
   "cell_type": "code",
   "execution_count": 164,
   "id": "5d395598-4b6b-4588-b645-79fe9e2bf332",
   "metadata": {},
   "outputs": [],
   "source": [
    "open_dates = percentDF.EmailOpenedDateTimeUtc\n",
    "\n",
    "altBigList = []\n",
    "for i in open_dates:\n",
    "    date = parser.parse(i)\n",
    "    yearToBe = date.year\n",
    "    monthToBe = date.month\n",
    "    monthYear = str(monthToBe) + \" - \" + str(yearToBe)\n",
    "    altBigList.append(monthYear)"
   ]
  },
  {
   "cell_type": "code",
   "execution_count": 173,
   "id": "372d404a-00a1-4028-ade8-e7f33a434f6b",
   "metadata": {},
   "outputs": [],
   "source": [
    "percentDF[\"OpenMonthYear\"] = altBigList"
   ]
  },
  {
   "cell_type": "code",
   "execution_count": 190,
   "id": "8dc6f87e-b60a-4977-bd10-86ce9ea7e58d",
   "metadata": {},
   "outputs": [],
   "source": [
    "#Drop all entries where the sent email does not equal the open month year\n",
    "percentDF = percentDF[percentDF[\"MonthYear\"] == percentDF[\"OpenMonthYear\"]]"
   ]
  },
  {
   "cell_type": "code",
   "execution_count": 181,
   "id": "d881b293-775d-44a3-a715-674dac18054c",
   "metadata": {},
   "outputs": [],
   "source": [
    "pUniqueCount = []\n",
    "for i in fdates:\n",
    "    uniques = percentDF[percentDF[\"MonthYear\"] == i].UserId.nunique()\n",
    "    pUniqueCount.append(uniques)"
   ]
  },
  {
   "cell_type": "code",
   "execution_count": 186,
   "id": "3e90f4de-d639-49f4-b10f-a99d1dffaeea",
   "metadata": {},
   "outputs": [],
   "source": [
    "#To get percentages, divide pUniqueCount by uniqueCount\n",
    "percentageList = []\n",
    "for i in range(len(pUniqueCount)):\n",
    "    percent = pUniqueCount[i] / uniqueCount[i]\n",
    "    percentageList.append(percent)"
   ]
  },
  {
   "cell_type": "code",
   "execution_count": 125,
   "id": "02d2f38f-1b13-4cf5-9824-6d294c758b11",
   "metadata": {},
   "outputs": [],
   "source": [
    "import matplotlib.pyplot as plt"
   ]
  },
  {
   "cell_type": "code",
   "execution_count": 194,
   "id": "20c3c1fb-cdcd-4b5a-8b3b-5f078e638142",
   "metadata": {},
   "outputs": [
    {
     "data": {
      "text/plain": [
       "<function matplotlib.pyplot.show(close=None, block=None)>"
      ]
     },
     "execution_count": 194,
     "metadata": {},
     "output_type": "execute_result"
    },
    {
     "data": {
      "image/png": "[encoded data removed]",
      "text/plain": [
       "<Figure size 432x288 with 2 Axes>"
      ]
     },
     "metadata": {
      "needs_background": "light"
     },
     "output_type": "display_data"
    }
   ],
   "source": [
    "#References https://matplotlib.org/devdocs/gallery/subplots_axes_and_figures/two_scales.html\n",
    "\n",
    "fig, ax1 = plt.subplots()\n",
    "\n",
    "color = \"tab:red\"\n",
    "ax1.set_xlabel(\"Month - Year\")\n",
    "ax1.set_ylabel(\"Distinct Users\", color = color)\n",
    "ax1.plot(fdates,uniqueCount, color = color)\n",
    "ax1.tick_params(axis='y', labelcolor=color)\n",
    "\n",
    "ax2 = ax1.twinx()\n",
    "\n",
    "color = \"tab:blue\"\n",
    "ax2.set_ylabel(\"Percent Active\", color = color)\n",
    "ax2.plot(fdates,percentageList,color=color)\n",
    "ax2.tick_params(axis='y',labelcolor=color)\n",
    "\n",
    "fig.tight_layout()\n",
    "plt.show"
   ]
  }
 ],
 "metadata": {
  "kernelspec": {
   "display_name": "Python 3 (ipykernel)",
   "language": "python",
   "name": "python3"
  },
  "language_info": {
   "codemirror_mode": {
    "name": "ipython",
    "version": 3
   },
   "file_extension": ".py",
   "mimetype": "text/x-python",
   "name": "python",
   "nbconvert_exporter": "python",
   "pygments_lexer": "ipython3",
   "version": "3.9.7"
  }
 },
 "nbformat": 4,
 "nbformat_minor": 5
}
